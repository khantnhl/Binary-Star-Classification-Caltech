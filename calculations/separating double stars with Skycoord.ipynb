{
 "cells": [
  {
   "cell_type": "code",
   "execution_count": 2,
   "id": "8b2c686e-0d28-4611-aa42-26242a04faf1",
   "metadata": {},
   "outputs": [],
   "source": [
    "from astropy.table import Table, vstack, Column\n",
    "from astropy.coordinates import SkyCoord, Angle\n",
    "\n",
    "import matplotlib.pyplot as plt\n",
    "import numpy as np\n",
    "import astropy.units as u"
   ]
  },
  {
   "cell_type": "code",
   "execution_count": 8,
   "id": "164c13a0-bb9d-44c9-b3a3-511329d13d68",
   "metadata": {},
   "outputs": [
    {
     "data": {
      "text/html": [
       "<div><i>Table length=156643</i>\n",
       "<table id=\"table5899482896\" class=\"table-striped table-bordered table-condensed\">\n",
       "<thead><tr><th>WDS</th><th>Disc</th><th>Comp</th><th>Obs1</th><th>Obs2</th><th>pa1</th><th>pa2</th><th>sep1</th><th>sep2</th><th>mag1</th><th>mag2</th><th>DM</th><th>Notes</th><th>n_RAJ2000</th><th>RAJ2000</th><th>DEJ2000</th><th>_RA.icrs</th><th>_DE.icrs</th><th>recno</th></tr></thead>\n",
       "<thead><tr><th></th><th></th><th></th><th>yr</th><th>yr</th><th>deg</th><th>deg</th><th>arcsec</th><th>arcsec</th><th>mag</th><th>mag</th><th></th><th></th><th></th><th></th><th></th><th></th><th></th><th></th></tr></thead>\n",
       "<thead><tr><th>str10</th><th>str7</th><th>str5</th><th>int16</th><th>int16</th><th>int16</th><th>int16</th><th>float32</th><th>float32</th><th>float32</th><th>float32</th><th>str9</th><th>str4</th><th>str1</th><th>str11</th><th>str11</th><th>str11</th><th>str11</th><th>int32</th></tr></thead>\n",
       "<tr><td>00000+7530</td><td>A  1248</td><td></td><td>1904</td><td>1982</td><td>246</td><td>235</td><td>0.8</td><td>0.60</td><td>10.270</td><td>11.50</td><td>+74 1056</td><td></td><td></td><td>00 00 06.64</td><td>+75 28 59.8</td><td>00 00 06.64</td><td>+75 28 59.8</td><td>1</td></tr>\n",
       "<tr><td>00000+4004</td><td>ES 2543</td><td>AB</td><td>1931</td><td>2015</td><td>252</td><td>253</td><td>4.8</td><td>4.40</td><td>12.100</td><td>13.10</td><td></td><td></td><td></td><td>00 00 03.66</td><td>+40 05 19.4</td><td>00 00 03.66</td><td>+40 05 19.4</td><td>2</td></tr>\n",
       "<tr><td>00000+4004</td><td>ES 2543</td><td>AC</td><td>1931</td><td>2015</td><td>69</td><td>66</td><td>20.0</td><td>14.40</td><td>12.100</td><td>14.10</td><td></td><td></td><td></td><td>00 00 03.66</td><td>+40 05 19.4</td><td>00 00 03.66</td><td>+40 05 19.4</td><td>3</td></tr>\n",
       "<tr><td>00000+3852</td><td>BU  860</td><td></td><td>1881</td><td>2016</td><td>107</td><td>107</td><td>6.7</td><td>6.60</td><td>6.620</td><td>11.40</td><td>+38 5108</td><td></td><td></td><td>00 00 01.20</td><td>+38 51 33.4</td><td>00 00 01.20</td><td>+38 51 33.4</td><td>4</td></tr>\n",
       "<tr><td>00000+0044</td><td>SKF1115</td><td></td><td>2001</td><td>2015</td><td>33</td><td>30</td><td>0.8</td><td>1.00</td><td>17.800</td><td>17.80</td><td></td><td></td><td></td><td>23 59 59.85</td><td>+00 43 32.7</td><td>23 59 59.85</td><td>+00 43 32.7</td><td>5</td></tr>\n",
       "<tr><td>00000-0530</td><td>OCC 622</td><td></td><td>1982</td><td>1982</td><td>-1</td><td>-1</td><td>0.1</td><td>0.10</td><td>9.500</td><td>9.70</td><td>-06 6337</td><td></td><td></td><td>00 00 00.08</td><td>-05 29 39.7</td><td>00 00 00.08</td><td>-05 29 39.7</td><td>6</td></tr>\n",
       "<tr><td>...</td><td>...</td><td>...</td><td>...</td><td>...</td><td>...</td><td>...</td><td>...</td><td>...</td><td>...</td><td>...</td><td>...</td><td>...</td><td>...</td><td>...</td><td>...</td><td>...</td><td>...</td><td>...</td></tr>\n",
       "<tr><td>23599+1413</td><td>SKF1113</td><td></td><td>2001</td><td>2016</td><td>171</td><td>171</td><td>1.6</td><td>1.60</td><td>16.300</td><td>16.60</td><td></td><td></td><td></td><td>23 59 56.44</td><td>+14 13 02.5</td><td>23 59 56.44</td><td>+14 13 02.5</td><td>156638</td></tr>\n",
       "<tr><td>23599+0048</td><td>HJ 3230</td><td></td><td>1831</td><td>2015</td><td>355</td><td>268</td><td>4.0</td><td>20.20</td><td>11.930</td><td>13.90</td><td></td><td>U</td><td></td><td>23 59 58.10</td><td>+00 48 56.8</td><td>23 59 58.10</td><td>+00 48 56.8</td><td>156639</td></tr>\n",
       "<tr><td>23599-0412</td><td>CBL 551</td><td></td><td>1994</td><td>2016</td><td>151</td><td>151</td><td>77.1</td><td>77.10</td><td>16.500</td><td>17.10</td><td></td><td>V</td><td></td><td>23 59 54.91</td><td>-04 12 12.9</td><td>23 59 54.91</td><td>-04 12 12.9</td><td>156640</td></tr>\n",
       "<tr><td>23599-0937</td><td>KPP 539</td><td></td><td>1998</td><td>2016</td><td>242</td><td>242</td><td>3.7</td><td>3.70</td><td>11.900</td><td>13.70</td><td></td><td>V</td><td></td><td>23 59 51.23</td><td>-09 36 44.5</td><td>23 59 51.23</td><td>-09 36 44.5</td><td>156641</td></tr>\n",
       "<tr><td>23599-1818</td><td>LDS6408</td><td></td><td>1958</td><td>1958</td><td>272</td><td>272</td><td>2.0</td><td>2.00</td><td>18.600</td><td>18.70</td><td></td><td>X</td><td>!</td><td>23 59 54.00</td><td>-18 18 00.0</td><td>23 59 54.00</td><td>-18 18 00.0</td><td>156642</td></tr>\n",
       "<tr><td>23599-3112</td><td>TDT4315</td><td></td><td>1991</td><td>1991</td><td>248</td><td>248</td><td>0.7</td><td>0.70</td><td>11.540</td><td>11.90</td><td>-3119543</td><td>X</td><td></td><td>23 59 53.60</td><td>-31 12 01.2</td><td>23 59 53.60</td><td>-31 12 01.2</td><td>156643</td></tr>\n",
       "</table></div>"
      ],
      "text/plain": [
       "<Table length=156643>\n",
       "   WDS       Disc  Comp  Obs1 ...   DEJ2000     _RA.icrs    _DE.icrs  recno \n",
       "                          yr  ...                                           \n",
       "  str10      str7  str5 int16 ...    str11       str11       str11    int32 \n",
       "---------- ------- ---- ----- ... ----------- ----------- ----------- ------\n",
       "00000+7530 A  1248       1904 ... +75 28 59.8 00 00 06.64 +75 28 59.8      1\n",
       "00000+4004 ES 2543   AB  1931 ... +40 05 19.4 00 00 03.66 +40 05 19.4      2\n",
       "00000+4004 ES 2543   AC  1931 ... +40 05 19.4 00 00 03.66 +40 05 19.4      3\n",
       "00000+3852 BU  860       1881 ... +38 51 33.4 00 00 01.20 +38 51 33.4      4\n",
       "00000+0044 SKF1115       2001 ... +00 43 32.7 23 59 59.85 +00 43 32.7      5\n",
       "00000-0530 OCC 622       1982 ... -05 29 39.7 00 00 00.08 -05 29 39.7      6\n",
       "       ...     ...  ...   ... ...         ...         ...         ...    ...\n",
       "23599+1413 SKF1113       2001 ... +14 13 02.5 23 59 56.44 +14 13 02.5 156638\n",
       "23599+0048 HJ 3230       1831 ... +00 48 56.8 23 59 58.10 +00 48 56.8 156639\n",
       "23599-0412 CBL 551       1994 ... -04 12 12.9 23 59 54.91 -04 12 12.9 156640\n",
       "23599-0937 KPP 539       1998 ... -09 36 44.5 23 59 51.23 -09 36 44.5 156641\n",
       "23599-1818 LDS6408       1958 ... -18 18 00.0 23 59 54.00 -18 18 00.0 156642\n",
       "23599-3112 TDT4315       1991 ... -31 12 01.2 23 59 53.60 -31 12 01.2 156643"
      ]
     },
     "execution_count": 8,
     "metadata": {},
     "output_type": "execute_result"
    }
   ],
   "source": [
    "df = Table.read('../catalogs/Wash/wash.vot')\n",
    "df"
   ]
  },
  {
   "cell_type": "code",
   "execution_count": 10,
   "id": "cdbe1918-5b55-4568-a7f2-0d590809d586",
   "metadata": {},
   "outputs": [],
   "source": [
    "def ra_converter(ra_str):\n",
    "    h = int(ra_str[0:2])\n",
    "    m = int(ra_str[3:5])\n",
    "    s = float(ra_str[6:])\n",
    "    result = 15*h + 15* (m/60) + 15*(s/3600)\n",
    "    return result\n",
    "\n",
    "def dec_converter(dec_str):\n",
    "    if(dec_str[0] == '+'):\n",
    "        sign = 1\n",
    "    else:\n",
    "        sign = -1\n",
    "    h = int(dec_str[1:3])\n",
    "    m = int(dec_str[4:6])\n",
    "    s = float(dec_str[7:])\n",
    "    return sign * (h + (m/60) + (s/3600))"
   ]
  },
  {
   "cell_type": "code",
   "execution_count": 12,
   "id": "b2f1aa7d-2e4f-4702-ba4f-91cd8f9910b9",
   "metadata": {},
   "outputs": [],
   "source": [
    "test_ra = ra_converter(df['RAJ2000'][0])\n",
    "test_dec = dec_converter(df['DEJ2000'][0])"
   ]
  },
  {
   "cell_type": "code",
   "execution_count": 53,
   "id": "11e16ee9-e24f-4868-ad5c-f3998d7d6aa8",
   "metadata": {},
   "outputs": [],
   "source": [
    "sky_obj = SkyCoord(ra = test_ra * u.deg, dec = test_dec * u.deg, frame = 'icrs')"
   ]
  },
  {
   "cell_type": "code",
   "execution_count": 55,
   "id": "929fc81f-8c41-4ab8-8234-e7a0109f083e",
   "metadata": {},
   "outputs": [
    {
     "data": {
      "text/plain": [
       "(<SkyCoord (ICRS): (ra, dec) in deg\n",
       "     (111.12453289, 51.09723457)>,\n",
       " <SkyCoord (ICRS): (ra, dec) in deg\n",
       "     (26.72310223, 43.13730438)>)"
      ]
     },
     "execution_count": 55,
     "metadata": {},
     "output_type": "execute_result"
    }
   ],
   "source": [
    "coord1 = sky_obj.directional_offset_by(position_angle = df['pa1'][0], separation = df['sep1'][0])\n",
    "coord2 = sky_obj.directional_offset_by(position_angle = df['pa2'][0], separation= df['sep2'][0])\n",
    "coord1, coord2"
   ]
  },
  {
   "cell_type": "code",
   "execution_count": 47,
   "id": "74750150-3c49-4bc8-b1c4-83da741d692b",
   "metadata": {},
   "outputs": [
    {
     "data": {
      "text/plain": [
       "array([2.76666667e-02, 1.52500000e-02, 1.52500000e-02, ...,\n",
       "       3.59963458e+02, 3.59975000e+02, 3.59973333e+02])"
      ]
     },
     "execution_count": 47,
     "metadata": {},
     "output_type": "execute_result"
    }
   ],
   "source": [
    "list = np.array(df['RAJ2000'])\n",
    "add_this_ra = []\n",
    "\n",
    "ra_deg = np.vectorize(ra_converter)\n",
    "add_this_ra = ra_deg(list)\n",
    "add_this_ra"
   ]
  },
  {
   "cell_type": "code",
   "execution_count": 49,
   "id": "a29c4d2d-91a1-4a08-a890-5111929befeb",
   "metadata": {},
   "outputs": [
    {
     "data": {
      "text/plain": [
       "array([ 75.48327778,  40.08872222,  40.08872222, ...,  -9.61236111,\n",
       "       -18.3       , -31.20033333])"
      ]
     },
     "execution_count": 49,
     "metadata": {},
     "output_type": "execute_result"
    }
   ],
   "source": [
    "list = np.array(df['DEJ2000'])\n",
    "add_this_dec = []\n",
    "\n",
    "dec_deg = np.vectorize(dec_converter)\n",
    "add_this_dec = dec_deg(list)\n",
    "add_this_dec"
   ]
  },
  {
   "cell_type": "code",
   "execution_count": 59,
   "id": "9b7505ed-db8d-4167-8eff-01d547ba273b",
   "metadata": {},
   "outputs": [
    {
     "name": "stdout",
     "output_type": "stream",
     "text": [
      "dtype = object\n",
      "unit = deg,deg\n",
      "class = SkyCoord\n",
      "n_bad = 0\n",
      "length = 156643\n"
     ]
    }
   ],
   "source": [
    "final_sky = SkyCoord(ra = add_this_ra * u.deg, dec = add_this_dec * u.deg, frame = 'icrs') \n",
    "final_sky"
   ]
  },
  {
   "cell_type": "code",
   "execution_count": 103,
   "id": "1400acc2-0ef5-4c55-8670-80cf8fd127c3",
   "metadata": {},
   "outputs": [],
   "source": [
    "final_coord1 = final_sky.directional_offset_by(position_angle= df['pa1'], separation= df['sep1'])\n",
    "final_coord2 = final_sky.directional_offset_by(position_angle= df['pa2'], separation= df['sep2'])"
   ]
  },
  {
   "cell_type": "code",
   "execution_count": 105,
   "id": "0e40782c-4afc-4fd7-ab2e-afa545d61066",
   "metadata": {},
   "outputs": [
    {
     "data": {
      "text/plain": [
       "<SkyCoord (ICRS): (ra, dec) in deg\n",
       "    [(111.12453289,  51.09723457), (312.51709333, -32.66918418),\n",
       "     (201.09766492,  73.06277178), ..., (176.02508661,  41.41743135),\n",
       "     (117.88221038,  -4.86387747), ( 20.01680136, -69.67962755)]>"
      ]
     },
     "execution_count": 105,
     "metadata": {},
     "output_type": "execute_result"
    }
   ],
   "source": [
    "final_coord1"
   ]
  },
  {
   "cell_type": "code",
   "execution_count": 14,
   "id": "47937bf5-c698-4b3d-85e7-4e4346b74872",
   "metadata": {},
   "outputs": [],
   "source": [
    "#correct way\n",
    "\n",
    "pairs = Table(names=['idx','ra','dec','sep','mag'],\n",
    "              dtype=[int,float,float,float,float])\n",
    "\n",
    "for i in range(len(df)):\n",
    "    # if wds['Comp'][i] == '':\n",
    "    split_ra = df['RAJ2000'][i].split(' ')\n",
    "    split_dec = df['DEJ2000'][i].split(' ')\n",
    "    ra = split_ra[0] + 'h' + split_ra[1] + 'm' + split_ra[2] + 's'\n",
    "    dec = split_dec[0] + 'd' + split_dec[1] + 'm' + split_dec[2] + 's'\n",
    "\n",
    "    c1 = SkyCoord(ra, dec, frame='icrs')\n",
    "    \n",
    "    position_angle_2 = df['pa2'][i] * u.deg\n",
    "    separation_2 = df['sep2'][i] * u.arcsec\n",
    "    \n",
    "    c2 = c1.directional_offset_by(position_angle_2, separation_2)\n",
    "    \n",
    "    pairs.add_row([i, c1.ra.deg, c1.dec.deg, separation_2.value, \n",
    "                   df['mag1'][i]])\n",
    "    pairs.add_row([i, c2.ra.deg, c2.dec.deg, separation_2.value, \n",
    "                   df['mag2'][i]]) "
   ]
  },
  {
   "cell_type": "code",
   "execution_count": 15,
   "id": "bb8aa447-e551-4aab-937e-63b9a03dcbb9",
   "metadata": {},
   "outputs": [],
   "source": [
    "pairs.write('../catalogs/Wash/wds.vot', format = 'votable', overwrite = True)"
   ]
  },
  {
   "cell_type": "code",
   "execution_count": 26,
   "id": "fe6262e0-ca21-4794-bee5-4bfd6dd68fd9",
   "metadata": {},
   "outputs": [
    {
     "data": {
      "text/html": [
       "<div><i>Table length=313286</i>\n",
       "<table id=\"table5899510864\" class=\"table-striped table-bordered table-condensed\">\n",
       "<thead><tr><th>idx</th><th>ra</th><th>dec</th><th>sep</th><th>mag</th></tr></thead>\n",
       "<thead><tr><th>int64</th><th>float64</th><th>float64</th><th>float64</th><th>float64</th></tr></thead>\n",
       "<tr><td>0</td><td>0.027666666666666662</td><td>75.48327777777779</td><td>0.6000000238418579</td><td>10.270000457763672</td></tr>\n",
       "<tr><td>0</td><td>0.027122012254739414</td><td>75.48318218107309</td><td>0.6000000238418579</td><td>11.5</td></tr>\n",
       "<tr><td>1</td><td>0.01525</td><td>40.08872222222222</td><td>4.400000095367432</td><td>12.100000381469727</td></tr>\n",
       "<tr><td>1</td><td>0.013722238930403132</td><td>40.088364868984854</td><td>4.400000095367432</td><td>13.100000381469727</td></tr>\n",
       "<tr><td>2</td><td>0.01525</td><td>40.08872222222222</td><td>14.399999618530273</td><td>12.100000381469727</td></tr>\n",
       "<tr><td>2</td><td>0.020026521544045252</td><td>40.09034907066208</td><td>14.399999618530273</td><td>14.100000381469727</td></tr>\n",
       "<tr><td>...</td><td>...</td><td>...</td><td>...</td><td>...</td></tr>\n",
       "<tr><td>156639</td><td>359.9892029297497</td><td>-4.222314702439741</td><td>77.0999984741211</td><td>17.100000381469727</td></tr>\n",
       "<tr><td>156640</td><td>359.96345833333334</td><td>-9.612361111111111</td><td>3.700000047683716</td><td>11.899999618530273</td></tr>\n",
       "<tr><td>156640</td><td>359.9625379357629</td><td>-9.612843622339742</td><td>3.700000047683716</td><td>13.699999809265137</td></tr>\n",
       "<tr><td>156641</td><td>359.97499999999997</td><td>-18.3</td><td>2.0</td><td>18.600000381469727</td></tr>\n",
       "<tr><td>156641</td><td>359.9744152073258</td><td>-18.299980610501045</td><td>2.0</td><td>18.700000762939453</td></tr>\n",
       "<tr><td>156642</td><td>359.97333333333336</td><td>-31.200333333333333</td><td>0.699999988079071</td><td>11.539999961853027</td></tr>\n",
       "<tr><td>156642</td><td>359.97312256170204</td><td>-31.20040617333125</td><td>0.699999988079071</td><td>11.899999618530273</td></tr>\n",
       "</table></div>"
      ],
      "text/plain": [
       "<Table length=313286>\n",
       " idx            ra          ...        sep                mag        \n",
       "int64        float64        ...      float64            float64      \n",
       "------ -------------------- ... ------------------ ------------------\n",
       "     0 0.027666666666666662 ... 0.6000000238418579 10.270000457763672\n",
       "     0 0.027122012254739414 ... 0.6000000238418579               11.5\n",
       "     1              0.01525 ...  4.400000095367432 12.100000381469727\n",
       "     1 0.013722238930403132 ...  4.400000095367432 13.100000381469727\n",
       "     2              0.01525 ... 14.399999618530273 12.100000381469727\n",
       "     2 0.020026521544045252 ... 14.399999618530273 14.100000381469727\n",
       "   ...                  ... ...                ...                ...\n",
       "156639    359.9892029297497 ...   77.0999984741211 17.100000381469727\n",
       "156640   359.96345833333334 ...  3.700000047683716 11.899999618530273\n",
       "156640    359.9625379357629 ...  3.700000047683716 13.699999809265137\n",
       "156641   359.97499999999997 ...                2.0 18.600000381469727\n",
       "156641    359.9744152073258 ...                2.0 18.700000762939453\n",
       "156642   359.97333333333336 ...  0.699999988079071 11.539999961853027\n",
       "156642   359.97312256170204 ...  0.699999988079071 11.899999618530273"
      ]
     },
     "execution_count": 26,
     "metadata": {},
     "output_type": "execute_result"
    }
   ],
   "source": [
    "wds = Table.read('../catalogs/Wash/wds.vot')\n",
    "wds"
   ]
  },
  {
   "cell_type": "code",
   "execution_count": null,
   "id": "30c73dc0-d441-4019-9a12-97c1fbb15939",
   "metadata": {},
   "outputs": [],
   "source": [
    "new_df = Table.read('../catalogs/Wash/wds.vot')"
   ]
  },
  {
   "cell_type": "code",
   "execution_count": null,
   "id": "ae61989e-2f1b-459e-95b5-20abc19300ea",
   "metadata": {},
   "outputs": [],
   "source": [
    "col = np.unique(df['source_id'])"
   ]
  }
 ],
 "metadata": {
  "kernelspec": {
   "display_name": "Python 3 (ipykernel)",
   "language": "python",
   "name": "python3"
  },
  "language_info": {
   "codemirror_mode": {
    "name": "ipython",
    "version": 3
   },
   "file_extension": ".py",
   "mimetype": "text/x-python",
   "name": "python",
   "nbconvert_exporter": "python",
   "pygments_lexer": "ipython3",
   "version": "3.11.5"
  }
 },
 "nbformat": 4,
 "nbformat_minor": 5
}
